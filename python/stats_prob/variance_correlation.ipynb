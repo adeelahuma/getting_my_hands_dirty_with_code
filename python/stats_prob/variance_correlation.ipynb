{
 "cells": [
  {
   "cell_type": "markdown",
   "metadata": {},
   "source": [
    "## Table of Contents\n",
    "- [Variance](#variance)\n",
    "- [Standard Deviation](#std)\n",
    "- [Covariance](#co-variance)\n",
    "    - Covaraince Matrix\n",
    "- [Correlation](#correlation)    \n",
    "    - [Pearson](#pearson)\n",
    "    - [Spearman](#spearman) TBD\n",
    "        - [Pearson vs Spearman](#pearson_vs_spearman)\n",
    "    - [Point biserial](#point_biserial)\n",
    "    - [Cramer's V (phi)](#cramer) TBD\n",
    "    - [CHi Squared ( ki Squared)](#chi_squared) \n",
    "    - [Theil's U ](#theil) TBD\n",
    "    - [Correlation Ratio/ETA Correlation](#eta)  TBD\n",
    "    - [Contigency Table](#crosstab)  \n",
    "- [Covariance vs Correlation Coefficient](#covariance_vs_correlation)    \n",
    "- [Plotting](#plot)    \n",
    "- Links"
   ]
  },
  {
   "cell_type": "markdown",
   "metadata": {},
   "source": [
    "***This notebook explores/implements variance, covaraince, correlation (pearson, spearmean, point biserail etc), how to interpret results and which one to use in practice.*** \n",
    "        \n",
    "Which correlation to use based on variable Type:     \n",
    "\n",
    "    \n",
    "| Variable combo | Correlation Method |\n",
    "|---|---|\n",
    "| Continous vs Continous | Paerson or Spearman |\n",
    "| Continous vs Categorical(2 categories) | Point Biserial |\n",
    "| Continous vs Categorical(>2 categories) | <font color='red'>ETA </font> | \n",
    "|Categorical vs Categorical | Chi Squared or Cramer's V\n",
    " "
   ]
  },
  {
   "cell_type": "code",
   "execution_count": 1,
   "metadata": {},
   "outputs": [],
   "source": [
    "import pandas as pd\n",
    "import numpy as np\n",
    "import matplotlib.pyplot as plt\n",
    "import seaborn as sns\n",
    "#import yellowbrick as yb\n",
    "#from yellowbrick.features import Rank1D, Rank2D\n",
    "\n",
    "from functools import reduce\n",
    "\n",
    "%matplotlib inline"
   ]
  },
  {
   "cell_type": "code",
   "execution_count": 2,
   "metadata": {},
   "outputs": [
    {
     "data": {
      "text/plain": [
       "array([[ 1,  1],\n",
       "       [ 2,  2],\n",
       "       [ 3,  3],\n",
       "       [ 4,  4],\n",
       "       [ 5,  5],\n",
       "       [ 6,  6],\n",
       "       [ 7,  7],\n",
       "       [ 8,  8],\n",
       "       [ 9,  9],\n",
       "       [10, 10]])"
      ]
     },
     "execution_count": 2,
     "metadata": {},
     "output_type": "execute_result"
    }
   ],
   "source": [
    "#dummy data\n",
    "data = np.column_stack((np.arange(1,11), np.arange(1,11)))\n",
    "data"
   ]
  },
  {
   "cell_type": "markdown",
   "metadata": {},
   "source": [
    "<a id='variance'></a>\n",
    "## Variance\n",
    "\n",
    "- measures the dispersion of a set of data points around their mean. \n",
    "- Formula:\n",
    "    - population formula: $\\sigma^2 = \\frac{\\sum_{i=1}^{N} (x_i - \\mu)^2}{ N }$ \n",
    "    - sample formula: $\\sigma^2 = \\frac{\\sum_{i=1}^{N} (x_i - \\mu)^2}{ N-1 }$\n",
    "- np.var(X, ddof) : ddof = specifies the N-ddof in the formula. if not specified then the formula is divided by N  meaning we get population statistics\n",
    "\n"
   ]
  },
  {
   "cell_type": "code",
   "execution_count": 3,
   "metadata": {},
   "outputs": [],
   "source": [
    "mu_col1 = np.mean(data[:, 0])\n",
    "mu_col2 = np.mean(data[:, 1])"
   ]
  },
  {
   "cell_type": "code",
   "execution_count": 4,
   "metadata": {},
   "outputs": [],
   "source": [
    "# notice use of reduce in first line\n",
    "# the second line is exacatly how we calculate covaraince between X and Y, in this case its betwen X and X\n",
    "\n",
    "def calculate_variance(X): \n",
    "    #return reduce(lambda x, y: x+y, np.square(data[:, 0] - mu_col1))/(len(data[:, 0])-1)\n",
    "    return np.sum((X - np.mean(X)) * (X - np.mean(X))) / (len(X)-1)"
   ]
  },
  {
   "cell_type": "code",
   "execution_count": 5,
   "metadata": {},
   "outputs": [],
   "source": [
    "assert calculate_variance(data[:, 0]), np.var(data[:, 0], ddof=1)"
   ]
  },
  {
   "cell_type": "markdown",
   "metadata": {},
   "source": [
    "<a id='std'></a>\n",
    "## Standard Deviation \n",
    "\n",
    "- Formula\n",
    "    - population formula: $\\sigma = \\sqrt(\\frac{\\sum_{i=1}^{N} (x_i - \\mu)^2}{ N })$ \n",
    "    - sample formula: $\\sigma = \\sqrt(\\frac{\\sum_{i=1}^{N} (x_i - \\mu)^2}{ N-1 })$\n",
    "- np.std()\n",
    "\n",
    "<br> **Interpretation:**\n",
    "- each data value is std_value distance from the mean  \n",
    "- Value of std closer to 'mean value' means that data points are closer "
   ]
  },
  {
   "cell_type": "code",
   "execution_count": 6,
   "metadata": {},
   "outputs": [
    {
     "data": {
      "text/plain": [
       "(5.5, 2.8722813232690143)"
      ]
     },
     "execution_count": 6,
     "metadata": {},
     "output_type": "execute_result"
    }
   ],
   "source": [
    "np.mean(data[:, 0]) , np.std(data[:, 0])"
   ]
  },
  {
   "cell_type": "code",
   "execution_count": 7,
   "metadata": {},
   "outputs": [],
   "source": [
    "assert np.sqrt(calculate_variance(data[:, 0])), np.std(data[:, 0], ddof=1)"
   ]
  },
  {
   "cell_type": "markdown",
   "metadata": {},
   "source": [
    "<a id='co-variance'></a>\n",
    "## Covariance\n",
    "\n",
    "- Measures how much each of the dimension varies from mean w.r.t. each other\n",
    "- COVARIANCE is used to measure the relationship between two dimensions to see if there is a relationship between two dimensions e.g. number of hours studied vs grades on exam \n",
    "- Formula:\n",
    "    - $\\sigma = \\frac{\\sum_{i=1}^{N} (x_i - \\mu_x) * (y_i - \\mu_y)}{ N-1 }$\n",
    "- np.cov()    \n",
    "\n",
    "<br>\n",
    "\n",
    "**Interpretation**\n",
    "- magnitude(the number itself) of covariance is not important.\n",
    "    - positive means two dimensions varies with eachother\n",
    "    - negative means two dimensions DOES NOT vary with eachother\n",
    "    - zero means two dimensions are independent\n",
    "- covariance of the varible with itself is simply variance"
   ]
  },
  {
   "cell_type": "code",
   "execution_count": 8,
   "metadata": {},
   "outputs": [],
   "source": [
    "def calculate_covariance(X, Y):\n",
    "    return np.sum( (X - np.mean(X)) * (Y - np.mean(Y)))/(len(X)-1)"
   ]
  },
  {
   "cell_type": "code",
   "execution_count": 9,
   "metadata": {},
   "outputs": [
    {
     "data": {
      "text/plain": [
       "9.166666666666666"
      ]
     },
     "execution_count": 9,
     "metadata": {},
     "output_type": "execute_result"
    }
   ],
   "source": [
    "calculate_covariance(data[:, 0], data[:, 1])"
   ]
  },
  {
   "cell_type": "code",
   "execution_count": 10,
   "metadata": {},
   "outputs": [
    {
     "data": {
      "text/plain": [
       "array([[9.16666667, 9.16666667],\n",
       "       [9.16666667, 9.16666667]])"
      ]
     },
     "execution_count": 10,
     "metadata": {},
     "output_type": "execute_result"
    }
   ],
   "source": [
    "# numpy gives a covaraince matrix \n",
    "np.cov(data[:, 0], data[:, 1])"
   ]
  },
  {
   "cell_type": "markdown",
   "metadata": {},
   "source": [
    "### Covaraince Matrix \n"
   ]
  },
  {
   "cell_type": "code",
   "execution_count": 11,
   "metadata": {},
   "outputs": [],
   "source": [
    "from itertools import combinations_with_replacement, product"
   ]
  },
  {
   "cell_type": "code",
   "execution_count": 12,
   "metadata": {},
   "outputs": [
    {
     "data": {
      "text/plain": [
       "array([[-2.79360494e+00,  1.00000000e+00,  2.10000000e+00],\n",
       "       [-3.94717268e-01,  2.00000000e+00,  4.20000000e+00],\n",
       "       [ 2.33794627e+00,  3.00000000e+00,  6.30000000e+00],\n",
       "       [ 4.60898755e-01,  4.00000000e+00,  8.40000000e+00],\n",
       "       [ 1.05414276e+00,  5.00000000e+00,  1.05000000e+01],\n",
       "       [ 3.99295464e-01,  6.00000000e+00,  1.26000000e+01],\n",
       "       [ 7.05313999e-01,  7.00000000e+00,  1.47000000e+01],\n",
       "       [-1.31725135e+00,  8.00000000e+00,  1.68000000e+01],\n",
       "       [-5.66565755e-01,  9.00000000e+00,  1.89000000e+01],\n",
       "       [ 5.65527286e-01,  1.00000000e+01,  2.10000000e+01],\n",
       "       [ 1.00000000e+02,  1.20000000e+01,  2.20000000e+01],\n",
       "       [ 1.00000000e+03,  1.30000000e+01,  2.60000000e+01]])"
      ]
     },
     "execution_count": 12,
     "metadata": {},
     "output_type": "execute_result"
    }
   ],
   "source": [
    "df = pd.DataFrame({\n",
    "    \"A\": np.random.randn(10),\n",
    "    \"B\": np.arange(1,11),\n",
    "    \"C\": np.arange(1,11)*2.1\n",
    "})\n",
    "\n",
    "#lets add some outliers to the data\n",
    "row_0 = pd.Series({\"A\": 100, \"B\": 12, \"C\": 22})\n",
    "row_1 = pd.Series({\"A\": 1000, \"B\": 13, \"C\": 26})\n",
    "\n",
    "df = df.append(row_0, ignore_index=True)\n",
    "df = df.append(row_1, ignore_index=True)\n",
    "\n",
    "df= df.to_numpy()\n",
    "df"
   ]
  },
  {
   "cell_type": "code",
   "execution_count": 13,
   "metadata": {},
   "outputs": [
    {
     "data": {
      "text/plain": [
       "(12, 3)"
      ]
     },
     "execution_count": 13,
     "metadata": {},
     "output_type": "execute_result"
    }
   ],
   "source": [
    "df.shape"
   ]
  },
  {
   "cell_type": "code",
   "execution_count": 14,
   "metadata": {},
   "outputs": [],
   "source": [
    "#for performance can use combinations w/o repetition because we are going to get a symmetric matrix \n",
    "## list(combinations_with_replacement(range(0, len(df)), 2)) \n",
    "## list(product(range(0, len(df)), range(0, len(df)))) #cartesian product of indices\n",
    "\n",
    "indices = product(range(0, df.shape[1]), range(0, df.shape[1]))\n",
    "cov_matrix = []\n",
    "for i in indices:\n",
    "    cov_matrix.append(calculate_covariance(df[:, i[0]], df[:, i[1]]))\n"
   ]
  },
  {
   "cell_type": "code",
   "execution_count": 15,
   "metadata": {},
   "outputs": [
    {
     "data": {
      "text/html": [
       "<div>\n",
       "<style scoped>\n",
       "    .dataframe tbody tr th:only-of-type {\n",
       "        vertical-align: middle;\n",
       "    }\n",
       "\n",
       "    .dataframe tbody tr th {\n",
       "        vertical-align: top;\n",
       "    }\n",
       "\n",
       "    .dataframe thead th {\n",
       "        text-align: right;\n",
       "    }\n",
       "</style>\n",
       "<table border=\"1\" class=\"dataframe\">\n",
       "  <thead>\n",
       "    <tr style=\"text-align: right;\">\n",
       "      <th></th>\n",
       "      <th>0</th>\n",
       "      <th>1</th>\n",
       "      <th>2</th>\n",
       "    </tr>\n",
       "  </thead>\n",
       "  <tbody>\n",
       "    <tr>\n",
       "      <th>0</th>\n",
       "      <td>82645.613785</td>\n",
       "      <td>624.686941</td>\n",
       "      <td>1202.085223</td>\n",
       "    </tr>\n",
       "    <tr>\n",
       "      <th>1</th>\n",
       "      <td>624.686941</td>\n",
       "      <td>14.969697</td>\n",
       "      <td>29.136364</td>\n",
       "    </tr>\n",
       "    <tr>\n",
       "      <th>2</th>\n",
       "      <td>1202.085223</td>\n",
       "      <td>29.136364</td>\n",
       "      <td>57.287500</td>\n",
       "    </tr>\n",
       "  </tbody>\n",
       "</table>\n",
       "</div>"
      ],
      "text/plain": [
       "              0           1            2\n",
       "0  82645.613785  624.686941  1202.085223\n",
       "1    624.686941   14.969697    29.136364\n",
       "2   1202.085223   29.136364    57.287500"
      ]
     },
     "execution_count": 15,
     "metadata": {},
     "output_type": "execute_result"
    }
   ],
   "source": [
    "pd.DataFrame(np.array(cov_matrix).reshape(3,3))"
   ]
  },
  {
   "cell_type": "markdown",
   "metadata": {},
   "source": [
    "<a id='correlation'></a>\n",
    "## Correlation\n",
    "\n",
    "<a id='pearson'></a>\n",
    "###  Pearson Correlation Coefficient\n",
    "- Assumes that each dataset(column) is normally distributed \n",
    "- Its value is always in the range(-1, 1)  \n",
    "    - 1  means perfect positive correlation\n",
    "    - 0  means no relationship\n",
    "    - -1 means perfect negative correlation\n",
    "- FORMULA : $\\frac{cov(X,Y)}{\\sigma(X)*\\sigma(Y)}$\n",
    "\n",
    "- formula is symetrical : cov(x,y) = cov(y,x)\n",
    "- np.corrcoef(X,Y)\n",
    "- df.corr()\n"
   ]
  },
  {
   "cell_type": "code",
   "execution_count": 16,
   "metadata": {},
   "outputs": [],
   "source": [
    "def calculate_pearson_correlation(X,Y):\n",
    "    return round(calculate_covariance(X,Y)/(np.std(X, ddof=1) * np.std(Y, ddof=1)), 1)"
   ]
  },
  {
   "cell_type": "code",
   "execution_count": 17,
   "metadata": {},
   "outputs": [
    {
     "data": {
      "text/plain": [
       "1.0"
      ]
     },
     "execution_count": 17,
     "metadata": {},
     "output_type": "execute_result"
    }
   ],
   "source": [
    "calculate_pearson_correlation(df[:,1], df[:,2])"
   ]
  },
  {
   "cell_type": "code",
   "execution_count": 18,
   "metadata": {},
   "outputs": [
    {
     "data": {
      "text/plain": [
       "array([[1.        , 0.99494462],\n",
       "       [0.99494462, 1.        ]])"
      ]
     },
     "execution_count": 18,
     "metadata": {},
     "output_type": "execute_result"
    }
   ],
   "source": [
    "np.corrcoef(df[:,1], df[:,2])"
   ]
  },
  {
   "cell_type": "code",
   "execution_count": 19,
   "metadata": {},
   "outputs": [
    {
     "data": {
      "text/html": [
       "<div>\n",
       "<style scoped>\n",
       "    .dataframe tbody tr th:only-of-type {\n",
       "        vertical-align: middle;\n",
       "    }\n",
       "\n",
       "    .dataframe tbody tr th {\n",
       "        vertical-align: top;\n",
       "    }\n",
       "\n",
       "    .dataframe thead th {\n",
       "        text-align: right;\n",
       "    }\n",
       "</style>\n",
       "<table border=\"1\" class=\"dataframe\">\n",
       "  <thead>\n",
       "    <tr style=\"text-align: right;\">\n",
       "      <th></th>\n",
       "      <th>0</th>\n",
       "      <th>1</th>\n",
       "      <th>2</th>\n",
       "    </tr>\n",
       "  </thead>\n",
       "  <tbody>\n",
       "    <tr>\n",
       "      <th>0</th>\n",
       "      <td>1.0</td>\n",
       "      <td>0.6</td>\n",
       "      <td>0.6</td>\n",
       "    </tr>\n",
       "    <tr>\n",
       "      <th>1</th>\n",
       "      <td>0.6</td>\n",
       "      <td>1.0</td>\n",
       "      <td>1.0</td>\n",
       "    </tr>\n",
       "    <tr>\n",
       "      <th>2</th>\n",
       "      <td>0.6</td>\n",
       "      <td>1.0</td>\n",
       "      <td>1.0</td>\n",
       "    </tr>\n",
       "  </tbody>\n",
       "</table>\n",
       "</div>"
      ],
      "text/plain": [
       "     0    1    2\n",
       "0  1.0  0.6  0.6\n",
       "1  0.6  1.0  1.0\n",
       "2  0.6  1.0  1.0"
      ]
     },
     "execution_count": 19,
     "metadata": {},
     "output_type": "execute_result"
    }
   ],
   "source": [
    "# Let's manually calculate the correlation matrix between ecah column of df\n",
    "\n",
    "indices = product(range(0, df.shape[1]), range(0, df.shape[1]))\n",
    "\n",
    "corr_list = []\n",
    "for i in indices:\n",
    "    corr_list.append(calculate_pearson_correlation(df[:,i[0]], df[:,i[1]]))\n",
    "\n",
    "corr_matrix = pd.DataFrame(np.array(corr_list).reshape(df.shape[1], df.shape[1]))    \n",
    "\n",
    "corr_matrix"
   ]
  },
  {
   "cell_type": "code",
   "execution_count": 20,
   "metadata": {},
   "outputs": [
    {
     "data": {
      "text/html": [
       "<div>\n",
       "<style scoped>\n",
       "    .dataframe tbody tr th:only-of-type {\n",
       "        vertical-align: middle;\n",
       "    }\n",
       "\n",
       "    .dataframe tbody tr th {\n",
       "        vertical-align: top;\n",
       "    }\n",
       "\n",
       "    .dataframe thead th {\n",
       "        text-align: right;\n",
       "    }\n",
       "</style>\n",
       "<table border=\"1\" class=\"dataframe\">\n",
       "  <thead>\n",
       "    <tr style=\"text-align: right;\">\n",
       "      <th></th>\n",
       "      <th>0</th>\n",
       "      <th>1</th>\n",
       "      <th>2</th>\n",
       "    </tr>\n",
       "  </thead>\n",
       "  <tbody>\n",
       "    <tr>\n",
       "      <th>0</th>\n",
       "      <td>1.000000</td>\n",
       "      <td>0.561624</td>\n",
       "      <td>0.552453</td>\n",
       "    </tr>\n",
       "    <tr>\n",
       "      <th>1</th>\n",
       "      <td>0.561624</td>\n",
       "      <td>1.000000</td>\n",
       "      <td>0.994945</td>\n",
       "    </tr>\n",
       "    <tr>\n",
       "      <th>2</th>\n",
       "      <td>0.552453</td>\n",
       "      <td>0.994945</td>\n",
       "      <td>1.000000</td>\n",
       "    </tr>\n",
       "  </tbody>\n",
       "</table>\n",
       "</div>"
      ],
      "text/plain": [
       "          0         1         2\n",
       "0  1.000000  0.561624  0.552453\n",
       "1  0.561624  1.000000  0.994945\n",
       "2  0.552453  0.994945  1.000000"
      ]
     },
     "execution_count": 20,
     "metadata": {},
     "output_type": "execute_result"
    }
   ],
   "source": [
    "## pandas \n",
    "pd.DataFrame(df).corr()"
   ]
  },
  {
   "cell_type": "markdown",
   "metadata": {},
   "source": [
    "<a id='spearman'></a>\n",
    "###  Spearman Correlation Coefficient"
   ]
  },
  {
   "cell_type": "code",
   "execution_count": 21,
   "metadata": {},
   "outputs": [
    {
     "data": {
      "text/html": [
       "<div>\n",
       "<style scoped>\n",
       "    .dataframe tbody tr th:only-of-type {\n",
       "        vertical-align: middle;\n",
       "    }\n",
       "\n",
       "    .dataframe tbody tr th {\n",
       "        vertical-align: top;\n",
       "    }\n",
       "\n",
       "    .dataframe thead th {\n",
       "        text-align: right;\n",
       "    }\n",
       "</style>\n",
       "<table border=\"1\" class=\"dataframe\">\n",
       "  <thead>\n",
       "    <tr style=\"text-align: right;\">\n",
       "      <th></th>\n",
       "      <th>0</th>\n",
       "      <th>1</th>\n",
       "      <th>2</th>\n",
       "    </tr>\n",
       "  </thead>\n",
       "  <tbody>\n",
       "    <tr>\n",
       "      <th>0</th>\n",
       "      <td>1.000000</td>\n",
       "      <td>0.454545</td>\n",
       "      <td>0.454545</td>\n",
       "    </tr>\n",
       "    <tr>\n",
       "      <th>1</th>\n",
       "      <td>0.454545</td>\n",
       "      <td>1.000000</td>\n",
       "      <td>1.000000</td>\n",
       "    </tr>\n",
       "    <tr>\n",
       "      <th>2</th>\n",
       "      <td>0.454545</td>\n",
       "      <td>1.000000</td>\n",
       "      <td>1.000000</td>\n",
       "    </tr>\n",
       "  </tbody>\n",
       "</table>\n",
       "</div>"
      ],
      "text/plain": [
       "          0         1         2\n",
       "0  1.000000  0.454545  0.454545\n",
       "1  0.454545  1.000000  1.000000\n",
       "2  0.454545  1.000000  1.000000"
      ]
     },
     "execution_count": 21,
     "metadata": {},
     "output_type": "execute_result"
    }
   ],
   "source": [
    "## pandas \n",
    "pd.DataFrame(df).corr(method='spearman')"
   ]
  },
  {
   "cell_type": "markdown",
   "metadata": {},
   "source": [
    "<a id='pearson_vs_spearman'></a>\n",
    "### Pearson VS Spearman (Why the big difference?)\n",
    "\n",
    "-  If data is normally distributed or uniformly distributed, then Spearman's and Pearson's correlation should be fairly similar.\n",
    "- If they are giving very different results (.65 versus .30), then the data is skewed or have outliers, and that outliers are leading Pearson's correlation to be larger than Spearman's correlation. i.e., very high values on X might co-occur with very high values on Y.\n",
    "- The first step should be to look at the scatter plot.\n",
    "- In general, such a big difference between Pearson and Spearman is a red flag suggesting that \n",
    "    - the Pearson correlation may not be a useful summary of the association between your two variables, or \n",
    "    - transform one or both variables before using Pearson's correlation, or \n",
    "    - should remove or adjust outliers before using Pearson's correlation.\n",
    "\n",
    "Refer to [link](https://stats.stackexchange.com/questions/11746/what-could-cause-big-differences-in-correlation-coefficient-between-pearsons-an?noredirect=1&lq=1) for more details.\n",
    "\n",
    "### WHICH ONE TO USE\n",
    "\n",
    "- compute both of the coefficients and look at the differences. In many cases, they will be exactly the same, so you don't need to worry. If however, they are different then you need to look at whether or not you met the assumptions of Pearsons (constant variance and linearity) and if these are not met, you are probably better off using Spearmans.\n",
    "Refer to [link](https://stats.stackexchange.com/questions/8071/how-to-choose-between-pearson-and-spearman-correlation) for more details."
   ]
  },
  {
   "cell_type": "code",
   "execution_count": 22,
   "metadata": {},
   "outputs": [
    {
     "data": {
      "text/html": [
       "<div>\n",
       "<style scoped>\n",
       "    .dataframe tbody tr th:only-of-type {\n",
       "        vertical-align: middle;\n",
       "    }\n",
       "\n",
       "    .dataframe tbody tr th {\n",
       "        vertical-align: top;\n",
       "    }\n",
       "\n",
       "    .dataframe thead th {\n",
       "        text-align: right;\n",
       "    }\n",
       "</style>\n",
       "<table border=\"1\" class=\"dataframe\">\n",
       "  <thead>\n",
       "    <tr style=\"text-align: right;\">\n",
       "      <th></th>\n",
       "      <th>x</th>\n",
       "      <th>e(x)</th>\n",
       "      <th>log(x)</th>\n",
       "    </tr>\n",
       "  </thead>\n",
       "  <tbody>\n",
       "    <tr>\n",
       "      <th>x</th>\n",
       "      <td>1.000000</td>\n",
       "      <td>0.253274</td>\n",
       "      <td>0.896021</td>\n",
       "    </tr>\n",
       "    <tr>\n",
       "      <th>e(x)</th>\n",
       "      <td>0.253274</td>\n",
       "      <td>1.000000</td>\n",
       "      <td>0.155751</td>\n",
       "    </tr>\n",
       "    <tr>\n",
       "      <th>log(x)</th>\n",
       "      <td>0.896021</td>\n",
       "      <td>0.155751</td>\n",
       "      <td>1.000000</td>\n",
       "    </tr>\n",
       "  </tbody>\n",
       "</table>\n",
       "</div>"
      ],
      "text/plain": [
       "               x      e(x)    log(x)\n",
       "x       1.000000  0.253274  0.896021\n",
       "e(x)    0.253274  1.000000  0.155751\n",
       "log(x)  0.896021  0.155751  1.000000"
      ]
     },
     "execution_count": 22,
     "metadata": {},
     "output_type": "execute_result"
    }
   ],
   "source": [
    "x = np.arange(1,100)\n",
    "\n",
    "df1 = pd.DataFrame({\n",
    "        'x' : x,\n",
    "        'e(x)' : np.exp(x),\n",
    "        'log(x)' : np.log(x)\n",
    "\n",
    "})\n",
    "df1.corr(method='pearson')"
   ]
  },
  {
   "cell_type": "code",
   "execution_count": 23,
   "metadata": {},
   "outputs": [
    {
     "data": {
      "text/html": [
       "<div>\n",
       "<style scoped>\n",
       "    .dataframe tbody tr th:only-of-type {\n",
       "        vertical-align: middle;\n",
       "    }\n",
       "\n",
       "    .dataframe tbody tr th {\n",
       "        vertical-align: top;\n",
       "    }\n",
       "\n",
       "    .dataframe thead th {\n",
       "        text-align: right;\n",
       "    }\n",
       "</style>\n",
       "<table border=\"1\" class=\"dataframe\">\n",
       "  <thead>\n",
       "    <tr style=\"text-align: right;\">\n",
       "      <th></th>\n",
       "      <th>x</th>\n",
       "      <th>e(x)</th>\n",
       "      <th>log(x)</th>\n",
       "    </tr>\n",
       "  </thead>\n",
       "  <tbody>\n",
       "    <tr>\n",
       "      <th>x</th>\n",
       "      <td>1.0</td>\n",
       "      <td>1.0</td>\n",
       "      <td>1.0</td>\n",
       "    </tr>\n",
       "    <tr>\n",
       "      <th>e(x)</th>\n",
       "      <td>1.0</td>\n",
       "      <td>1.0</td>\n",
       "      <td>1.0</td>\n",
       "    </tr>\n",
       "    <tr>\n",
       "      <th>log(x)</th>\n",
       "      <td>1.0</td>\n",
       "      <td>1.0</td>\n",
       "      <td>1.0</td>\n",
       "    </tr>\n",
       "  </tbody>\n",
       "</table>\n",
       "</div>"
      ],
      "text/plain": [
       "          x  e(x)  log(x)\n",
       "x       1.0   1.0     1.0\n",
       "e(x)    1.0   1.0     1.0\n",
       "log(x)  1.0   1.0     1.0"
      ]
     },
     "execution_count": 23,
     "metadata": {},
     "output_type": "execute_result"
    }
   ],
   "source": [
    "df1.corr(method='spearman')"
   ]
  },
  {
   "cell_type": "markdown",
   "metadata": {},
   "source": [
    "<a id='point_biserial'></a>\n",
    "### Point Biserial Correlation\n",
    "The point biserial correlation is used to measure the relationship between a binary variable, x, and a continuous variable, y. \n",
    "\n",
    "-  Use stats.pointbiserialr(X, Y) from scipy module\n",
    "- **Interpretation**\n",
    "    - H0 --> correlation is zero\n",
    "    - H1 --> corelation is not zero\n",
    "    - Now look at p-value to accept or reject null hypothesis\n",
    "\n"
   ]
  },
  {
   "cell_type": "code",
   "execution_count": 24,
   "metadata": {},
   "outputs": [
    {
     "data": {
      "text/html": [
       "<div>\n",
       "<style scoped>\n",
       "    .dataframe tbody tr th:only-of-type {\n",
       "        vertical-align: middle;\n",
       "    }\n",
       "\n",
       "    .dataframe tbody tr th {\n",
       "        vertical-align: top;\n",
       "    }\n",
       "\n",
       "    .dataframe thead th {\n",
       "        text-align: right;\n",
       "    }\n",
       "</style>\n",
       "<table border=\"1\" class=\"dataframe\">\n",
       "  <thead>\n",
       "    <tr style=\"text-align: right;\">\n",
       "      <th></th>\n",
       "      <th>col_1</th>\n",
       "      <th>col_2</th>\n",
       "      <th>col_3</th>\n",
       "      <th>col_4</th>\n",
       "    </tr>\n",
       "  </thead>\n",
       "  <tbody>\n",
       "    <tr>\n",
       "      <th>0</th>\n",
       "      <td>75</td>\n",
       "      <td>0</td>\n",
       "      <td>A</td>\n",
       "      <td>M</td>\n",
       "    </tr>\n",
       "    <tr>\n",
       "      <th>1</th>\n",
       "      <td>98</td>\n",
       "      <td>1</td>\n",
       "      <td>A</td>\n",
       "      <td>K</td>\n",
       "    </tr>\n",
       "    <tr>\n",
       "      <th>2</th>\n",
       "      <td>67</td>\n",
       "      <td>0</td>\n",
       "      <td>B</td>\n",
       "      <td>M</td>\n",
       "    </tr>\n",
       "    <tr>\n",
       "      <th>3</th>\n",
       "      <td>95</td>\n",
       "      <td>1</td>\n",
       "      <td>B</td>\n",
       "      <td>L</td>\n",
       "    </tr>\n",
       "    <tr>\n",
       "      <th>4</th>\n",
       "      <td>92</td>\n",
       "      <td>0</td>\n",
       "      <td>A</td>\n",
       "      <td>L</td>\n",
       "    </tr>\n",
       "  </tbody>\n",
       "</table>\n",
       "</div>"
      ],
      "text/plain": [
       "   col_1  col_2 col_3 col_4\n",
       "0     75      0     A     M\n",
       "1     98      1     A     K\n",
       "2     67      0     B     M\n",
       "3     95      1     B     L\n",
       "4     92      0     A     L"
      ]
     },
     "execution_count": 24,
     "metadata": {},
     "output_type": "execute_result"
    }
   ],
   "source": [
    "df = pd.DataFrame({\n",
    "        'col_1': np.random.randint(50,100, size=50), \n",
    "        'col_2': np.random.choice([0,1], 50),\n",
    "        'col_3': np.random.choice(['A','B'], 50),\n",
    "        'col_4': np.random.choice(['K', 'L', 'M'], 50)\n",
    "        })\n",
    "df.head()"
   ]
  },
  {
   "cell_type": "code",
   "execution_count": 25,
   "metadata": {},
   "outputs": [],
   "source": [
    "# change data types of columns \n",
    "df = df.astype({'col_1': 'int', 'col_2': 'category', 'col_3': 'category', 'col_4': 'category'})"
   ]
  },
  {
   "cell_type": "code",
   "execution_count": 26,
   "metadata": {},
   "outputs": [],
   "source": [
    "# Pandas Dataframe Method:\n",
    "# computer pairwise correlation CONTINOUS columns ONLY. Default method is pearson\n",
    "#df.corr()"
   ]
  },
  {
   "cell_type": "code",
   "execution_count": 27,
   "metadata": {},
   "outputs": [],
   "source": [
    "#df.corr(method='spearman') # Question: why spearman coefficient's values are low? "
   ]
  },
  {
   "cell_type": "code",
   "execution_count": 28,
   "metadata": {},
   "outputs": [],
   "source": [
    "# Numpy Method: it takes two data arrays \n",
    "#print(np.corrcoef(df['col_1'], df['col_2']))   # continous vs binary"
   ]
  },
  {
   "cell_type": "code",
   "execution_count": 29,
   "metadata": {},
   "outputs": [],
   "source": [
    "#print(np.corrcoef(df['col_2'], df['col_2']))    # binary vs binary"
   ]
  },
  {
   "cell_type": "code",
   "execution_count": 30,
   "metadata": {},
   "outputs": [],
   "source": [
    "#print(np.corrcoef(df['col_1'], df['col_1']))    # continous vs continous"
   ]
  },
  {
   "cell_type": "code",
   "execution_count": 31,
   "metadata": {},
   "outputs": [
    {
     "data": {
      "text/plain": [
       "PointbiserialrResult(correlation=0.07999007709293206, pvalue=0.5808145352406946)"
      ]
     },
     "execution_count": 31,
     "metadata": {},
     "output_type": "execute_result"
    }
   ],
   "source": [
    "# Point Biserial \n",
    "from scipy import stats\n",
    "stats.pointbiserialr(df['col_1'], df['col_2'])\n",
    "\n",
    "#<REMEMBER>\n",
    "# H0 --> correlation is zero\n",
    "# H1 --> corelation is not zero\n",
    "# Now look at p-value to accept or reject null hypothesis\n",
    "\n"
   ]
  },
  {
   "cell_type": "markdown",
   "metadata": {},
   "source": [
    "<a id='cramer'></a>\n",
    "###  Cramer's V (phi)"
   ]
  },
  {
   "cell_type": "code",
   "execution_count": null,
   "metadata": {},
   "outputs": [],
   "source": []
  },
  {
   "cell_type": "markdown",
   "metadata": {},
   "source": [
    "<a id='chi_squared'></a>\n",
    "### CHi Squared ( ki Squared) \n",
    "\n",
    "- Links: \n",
    "  - https://www.mathsisfun.com/data/chi-square-test.html\n",
    "  - Python Practical example : https://machinelearningmastery.com/chi-squared-test-for-machine-learning/\n",
    "  - ML Usage: https://www.quora.com/How-is-chi-test-used-for-feature-selection-in-machine-learning\n",
    "\n",
    "- Calculated between categorical variables\n",
    "- Chi square test tells you that which features are better related with the outcome variable. Smaller p value means more closely related with the outcome.\n",
    "- The variables are considered independent if the observed and expected frequencies are similar, that the levels of the variables do not interact, are not dependent\n",
    "- H0: the observed frequencies for a categorical variable match the expected frequencies for the categorical variable./ Independent varaibles\n",
    "- H1: Dependent variables\n",
    "- Interpretaion: if p-value <significae level(0.05) Reject Null (Meaning varaibles are Dependent) \n"
   ]
  },
  {
   "cell_type": "code",
   "execution_count": 32,
   "metadata": {},
   "outputs": [
    {
     "data": {
      "text/html": [
       "<div>\n",
       "<style scoped>\n",
       "    .dataframe tbody tr th:only-of-type {\n",
       "        vertical-align: middle;\n",
       "    }\n",
       "\n",
       "    .dataframe tbody tr th {\n",
       "        vertical-align: top;\n",
       "    }\n",
       "\n",
       "    .dataframe thead th {\n",
       "        text-align: right;\n",
       "    }\n",
       "</style>\n",
       "<table border=\"1\" class=\"dataframe\">\n",
       "  <thead>\n",
       "    <tr style=\"text-align: right;\">\n",
       "      <th>col_3</th>\n",
       "      <th>A</th>\n",
       "      <th>B</th>\n",
       "    </tr>\n",
       "    <tr>\n",
       "      <th>col_2</th>\n",
       "      <th></th>\n",
       "      <th></th>\n",
       "    </tr>\n",
       "  </thead>\n",
       "  <tbody>\n",
       "    <tr>\n",
       "      <th>0</th>\n",
       "      <td>8</td>\n",
       "      <td>16</td>\n",
       "    </tr>\n",
       "    <tr>\n",
       "      <th>1</th>\n",
       "      <td>15</td>\n",
       "      <td>11</td>\n",
       "    </tr>\n",
       "  </tbody>\n",
       "</table>\n",
       "</div>"
      ],
      "text/plain": [
       "col_3   A   B\n",
       "col_2        \n",
       "0       8  16\n",
       "1      15  11"
      ]
     },
     "execution_count": 32,
     "metadata": {},
     "output_type": "execute_result"
    }
   ],
   "source": [
    "pd.crosstab(df['col_2'], df['col_3'] )"
   ]
  },
  {
   "cell_type": "code",
   "execution_count": 33,
   "metadata": {},
   "outputs": [
    {
     "data": {
      "text/plain": [
       "(2.0811398075890812,\n",
       " 0.14912878265951574,\n",
       " 1,\n",
       " array([[11.04, 12.96],\n",
       "        [11.96, 14.04]]),\n",
       " array([[ 8, 16],\n",
       "        [15, 11]]))"
      ]
     },
     "execution_count": 33,
     "metadata": {},
     "output_type": "execute_result"
    }
   ],
   "source": [
    "from scipy.stats import chi2_contingency\n",
    "\n",
    "## BOTH COLUMNS has two disntinct categories\n",
    "observed_freq= pd.crosstab(df['col_2'], df['col_3'] ).to_numpy()\n",
    "chi, pvalue, ddof, expected = chi2_contingency(observed_freq)\n",
    "\n",
    "chi, pvalue, ddof, expected, observed_freq"
   ]
  },
  {
   "cell_type": "code",
   "execution_count": 34,
   "metadata": {},
   "outputs": [
    {
     "name": "stdout",
     "output_type": "stream",
     "text": [
      "Independent variables\n"
     ]
    }
   ],
   "source": [
    "if pvalue < 0.05:  # NULL must go \n",
    "    print('Dependent variables')\n",
    "else: \n",
    "    print('Independent variables')    "
   ]
  },
  {
   "cell_type": "code",
   "execution_count": 35,
   "metadata": {},
   "outputs": [
    {
     "data": {
      "text/plain": [
       "(1.3656633221850611,\n",
       " 0.5051844539283818,\n",
       " 2,\n",
       " array([[ 7.2 ,  5.76, 11.04],\n",
       "        [ 7.8 ,  6.24, 11.96]]))"
      ]
     },
     "execution_count": 35,
     "metadata": {},
     "output_type": "execute_result"
    }
   ],
   "source": [
    "## COL_4 has 3 categories\n",
    "ob_freq = pd.crosstab(df['col_2'], df['col_4'])\n",
    "chi2_contingency(ob_freq)"
   ]
  },
  {
   "cell_type": "markdown",
   "metadata": {},
   "source": [
    "<a id='theil'></a>\n",
    "### Theil's U  "
   ]
  },
  {
   "cell_type": "code",
   "execution_count": null,
   "metadata": {},
   "outputs": [],
   "source": []
  },
  {
   "cell_type": "markdown",
   "metadata": {},
   "source": [
    "<a id='eta'></a>\n",
    "###  Correlation Ratio/ETA Correlation"
   ]
  },
  {
   "cell_type": "code",
   "execution_count": null,
   "metadata": {},
   "outputs": [],
   "source": []
  },
  {
   "cell_type": "markdown",
   "metadata": {},
   "source": [
    "<a id='crosstab'></a>\n",
    "### Contigency Table\n",
    "The table was called a contingency table, by Karl Pearson, because the intent is to help determine whether one variable is contingent upon or depends upon the other variable. For example, does an interest in math or science depend on gender, or are they independent?"
   ]
  },
  {
   "cell_type": "code",
   "execution_count": 36,
   "metadata": {},
   "outputs": [
    {
     "data": {
      "text/html": [
       "<div>\n",
       "<style scoped>\n",
       "    .dataframe tbody tr th:only-of-type {\n",
       "        vertical-align: middle;\n",
       "    }\n",
       "\n",
       "    .dataframe tbody tr th {\n",
       "        vertical-align: top;\n",
       "    }\n",
       "\n",
       "    .dataframe thead th {\n",
       "        text-align: right;\n",
       "    }\n",
       "</style>\n",
       "<table border=\"1\" class=\"dataframe\">\n",
       "  <thead>\n",
       "    <tr style=\"text-align: right;\">\n",
       "      <th>col_3</th>\n",
       "      <th>A</th>\n",
       "      <th>B</th>\n",
       "    </tr>\n",
       "    <tr>\n",
       "      <th>col_2</th>\n",
       "      <th></th>\n",
       "      <th></th>\n",
       "    </tr>\n",
       "  </thead>\n",
       "  <tbody>\n",
       "    <tr>\n",
       "      <th>0</th>\n",
       "      <td>8</td>\n",
       "      <td>16</td>\n",
       "    </tr>\n",
       "    <tr>\n",
       "      <th>1</th>\n",
       "      <td>15</td>\n",
       "      <td>11</td>\n",
       "    </tr>\n",
       "  </tbody>\n",
       "</table>\n",
       "</div>"
      ],
      "text/plain": [
       "col_3   A   B\n",
       "col_2        \n",
       "0       8  16\n",
       "1      15  11"
      ]
     },
     "execution_count": 36,
     "metadata": {},
     "output_type": "execute_result"
    }
   ],
   "source": [
    "pd.crosstab(df['col_2'], df['col_3'] )"
   ]
  },
  {
   "cell_type": "code",
   "execution_count": null,
   "metadata": {},
   "outputs": [],
   "source": []
  },
  {
   "cell_type": "markdown",
   "metadata": {},
   "source": [
    "\n",
    "<a id='covariance_vs_correlation'></a>\n",
    "## Covariance vs Correlation Coefficient\n",
    "\n",
    "correlation is preffered over covariance because its not affected by Scale and unit. Its values are between -1 and 1 \n",
    "  \n",
    " >NOTICE at the code example corr_matrix vs cov_matrix\n",
    "              by looking at corr_matrix, we can see that 1 indicates \n",
    "              that two columns are correlated, but in covaraince its show \n",
    "              a number but hard to discern how much they are related\n",
    "              \n",
    " PEARSON CORRELATION is preffered over covariance.             "
   ]
  },
  {
   "cell_type": "markdown",
   "metadata": {},
   "source": [
    "<a id='plot'></a>\n",
    "## Plotting "
   ]
  },
  {
   "cell_type": "code",
   "execution_count": 37,
   "metadata": {},
   "outputs": [
    {
     "data": {
      "image/png": "[encoded data removed]",
      "text/plain": [
       "<Figure size 432x288 with 2 Axes>"
      ]
     },
     "metadata": {
      "needs_background": "light"
     },
     "output_type": "display_data"
    }
   ],
   "source": [
    "sns.heatmap(corr_matrix)\n",
    "plt.show()"
   ]
  },
  {
   "cell_type": "code",
   "execution_count": 38,
   "metadata": {},
   "outputs": [],
   "source": [
    "#viz = Rank2D(['A','B','C'], algorithm='pearson')\n",
    "#viz.fit(cov_matrix)\n",
    "#viz.transform(cov_matrix)\n",
    "#plt.plot(covariance_matrix)  "
   ]
  },
  {
   "cell_type": "code",
   "execution_count": 39,
   "metadata": {},
   "outputs": [
    {
     "data": {
      "image/png": "[encoded data removed]",
      "text/plain": [
       "<Figure size 288x288 with 1 Axes>"
      ]
     },
     "metadata": {
      "needs_background": "light"
     },
     "output_type": "display_data"
    }
   ],
   "source": [
    "plt.matshow(pd.DataFrame(df).corr())    \n",
    "plt.show() "
   ]
  },
  {
   "cell_type": "markdown",
   "metadata": {},
   "source": [
    "**Links**\n",
    "- Correlation Analysis: https://statzilla.ru/application_en\n",
    "- https://numpy.org/doc/1.18/reference/generated/numpy.corrcoef.html\n",
    "- https://gradehub.com/blog/point-biserial/  \n",
    "- https://docs.scipy.org/doc/scipy/reference/generated/scipy.stats.pearsonr.html\n",
    "- https://docs.scipy.org/doc/scipy/reference/generated/scipy.stats.spearmanr.html\n",
    "- https://www.statisticshowto.datasciencecentral.com/probability-and-statistics/correlation-coefficient-formula/\n",
    "<br>StackExchange:<br>\n",
    "- Pearson vs Spearman --> https://stats.stackexchange.com/questions/11746/what-could-cause-big-differences-in-correlation-coefficient-between-pearsons-an?noredirect=1&lq=1\n",
    "- Pearson or Spearman? --> https://stats.stackexchange.com/questions/8071/how-to-choose-between-pearson-and-spearman-correlation?noredirect=1&lq=1\n",
    "- p-value in correclation -- >https://stats.stackexchange.com/questions/131037/what-is-the-deal-with-p-value-when-generating-pearsons-r-correlation-coeffi?answertab=oldest#tab-top\n",
    "- https://datascience.stackexchange.com/questions/893/how-to-get-correlation-between-two-categorical-variable-and-a-categorical-variab"
   ]
  }
 ],
 "metadata": {
  "kernelspec": {
   "display_name": "Python 3",
   "language": "python",
   "name": "python3"
  },
  "language_info": {
   "codemirror_mode": {
    "name": "ipython",
    "version": 3
   },
   "file_extension": ".py",
   "mimetype": "text/x-python",
   "name": "python",
   "nbconvert_exporter": "python",
   "pygments_lexer": "ipython3",
   "version": "3.7.6"
  }
 },
 "nbformat": 4,
 "nbformat_minor": 4
}
