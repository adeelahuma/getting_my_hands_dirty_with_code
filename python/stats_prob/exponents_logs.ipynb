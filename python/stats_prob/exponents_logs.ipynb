{
 "cells": [
  {
   "cell_type": "markdown",
   "metadata": {},
   "source": [
    "# Exponents and Logaritms\n",
    "Link:\n",
    "- log https://betterexplained.com/articles/using-logs-in-the-real-world/\n",
    "- e https://betterexplained.com/articles/an-intuitive-guide-to-exponential-functions-e/"
   ]
  },
  {
   "cell_type": "code",
   "execution_count": null,
   "metadata": {},
   "outputs": [],
   "source": []
  },
  {
   "cell_type": "code",
   "execution_count": null,
   "metadata": {},
   "outputs": [],
   "source": [
    "xx = np.arange(0,20,2)\n",
    "yy = xx+1\n",
    "\n",
    "fig, ax = plt.subplots()\n",
    "\n",
    "plt.plot(xx, yy, label='y')\n",
    "plt.plot(xx, np.log2(yy), label='log(y)')\n",
    "\n",
    "ax.spines['bottom'].set_position('center')\n",
    "\n",
    "# Eliminate upper and right axes\n",
    "ax.spines['right'].set_color('none')\n",
    "ax.spines['top'].set_color('none')\n",
    "\n",
    "plt.legend()\n",
    "plt.xlabel(\"x\")\n",
    "\n",
    "\n",
    "plt.show()"
   ]
  },
  {
   "cell_type": "code",
   "execution_count": null,
   "metadata": {},
   "outputs": [],
   "source": [
    "log_y = np.log2(y)\n",
    "fig, ax = plt.subplots()\n",
    "\n",
    "plt.scatter(x, y, label='y')\n",
    "plt.scatter(x, log_y, label='log(y)')\n",
    "plt.scatter(x, -1*log_y, label='-log(y)')\n",
    "\n",
    "ax.spines['bottom'].set_position('center')\n",
    "\n",
    "# Eliminate upper and right axes\n",
    "ax.spines['right'].set_color('none')\n",
    "ax.spines['top'].set_color('none')\n",
    "\n",
    "plt.legend()\n",
    "plt.xlabel(\"x\")\n",
    "\n",
    "\n",
    "plt.show()"
   ]
  }
 ],
 "metadata": {
  "kernelspec": {
   "display_name": "Python 3",
   "language": "python",
   "name": "python3"
  },
  "language_info": {
   "codemirror_mode": {
    "name": "ipython",
    "version": 3
   },
   "file_extension": ".py",
   "mimetype": "text/x-python",
   "name": "python",
   "nbconvert_exporter": "python",
   "pygments_lexer": "ipython3",
   "version": "3.7.6"
  }
 },
 "nbformat": 4,
 "nbformat_minor": 4
}
